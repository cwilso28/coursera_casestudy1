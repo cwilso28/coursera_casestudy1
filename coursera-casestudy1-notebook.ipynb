{
 "cells": [
  {
   "cell_type": "markdown",
   "id": "8af60e0a",
   "metadata": {},
   "source": [
    "# Coursera Case Study 1: Revisited"
   ]
  },
  {
   "cell_type": "markdown",
   "id": "218ce786",
   "metadata": {},
   "source": [
    "## Introduction\n",
    "This notebook is a repeat of the work done on a case study for the Coursera's Google Data Analytics Certificate program. The work was previously performed in Excel and R, with an RMarkdown HTML document as the output. The goal here is to repeat and document the steps taken to clean and analyze the data. This is missing from the write-up found over at my [Kaggle site](https://www.kaggle.com/code/scwilso28/coursera-case-study-1-cyclistic-data-analysis).\n",
    "\n",
    "The data cleanup steps performed in my other Jupyter notebook on [Github](https://github.com/cwilso28/my-first-jupyter-notebook) will be used here, but with some modifications to account for the large datafiles used in the case study.\n",
    "\n",
    "Performing all of the data cleaning and analysis in a Jupyter notebook was a good exercise. The mixed use of python and R was a great learning experience."
   ]
  },
  {
   "cell_type": "markdown",
   "id": "55a37ce5",
   "metadata": {},
   "source": [
    "## Data Cleaning"
   ]
  },
  {
   "cell_type": "markdown",
   "id": "6cd02a7e",
   "metadata": {},
   "source": [
    "The data cleaning process starts off with importing the necessary packages for python as well as enabling the extension for R script. Python is used for a majority of this process, but I reused R code to plot the data. I like the ease of plotting with R, the layers are more intuitive to me. \n",
    "\n",
    "As a note, there is a warning that pops up when enabling the rpy2 extension. The 'quartz' package is for MacOS and Linux, but I'm running Windows so I'm not sure how to address this issue. There are a few threads, [here](https://github.com/rpy2/rpy2/issues/738) and [here](https://github.com/rpy2/rpy2/issues/695), about this online, but I didn't see a solution. This will require further investigation."
   ]
  },
  {
   "cell_type": "code",
   "execution_count": 1,
   "id": "cc79f359",
   "metadata": {
    "scrolled": true
   },
   "outputs": [
    {
     "name": "stderr",
     "output_type": "stream",
     "text": [
      "C:\\Users\\Chris\\AppData\\Local\\Programs\\Python\\Python310\\lib\\site-packages\\rpy2\\robjects\\packages.py:367: UserWarning: The symbol 'quartz' is not in this R namespace/package.\n",
      "  warnings.warn(\n"
     ]
    }
   ],
   "source": [
    "import pandas as pd\n",
    "import numpy as np\n",
    "import zipfile\n",
    "from os import listdir\n",
    "%load_ext rpy2.ipython"
   ]
  },
  {
   "cell_type": "markdown",
   "id": "22821a8a",
   "metadata": {},
   "source": [
    "I don't need all of the columns in the files, so I filtered out the unused columns to reduce the size of the incoming data. As shown later, the dataframe still ends up quite large. In addition, I did away with creating duplicates of the data by unzipping the folders in my /Datasets folder and instead letting python handle that. No need to take up more diskspace than I already have."
   ]
  },
  {
   "cell_type": "code",
   "execution_count": 2,
   "id": "e2b48f53",
   "metadata": {},
   "outputs": [],
   "source": [
    "to_import = ['ride_id', 'rideable_type', 'started_at', 'ended_at', 'start_station_name', 'end_station_name', 'member_casual']\n",
    "my_files = [f for f in listdir('Datasets')]"
   ]
  },
  {
   "cell_type": "code",
   "execution_count": 3,
   "id": "fece5e36",
   "metadata": {},
   "outputs": [],
   "source": [
    "zf = zipfile.ZipFile('Datasets/'+my_files[0])\n",
    "df = pd.read_csv(zf.open(zf.namelist()[0]), usecols = to_import)"
   ]
  },
  {
   "cell_type": "code",
   "execution_count": 4,
   "id": "e93bfbb2",
   "metadata": {
    "scrolled": true
   },
   "outputs": [
    {
     "name": "stdout",
     "output_type": "stream",
     "text": [
      "File name: 202104-divvy-tripdata.csv; File length: 337230\n",
      "File name: 202105-divvy-tripdata.csv; File length: 531633\n",
      "File name: 202106-divvy-tripdata.csv; File length: 729595\n",
      "File name: 202107-divvy-tripdata.csv; File length: 822410\n",
      "File name: 202108-divvy-tripdata.csv; File length: 804352\n",
      "File name: 202109-divvy-tripdata.csv; File length: 756147\n",
      "File name: 202110-divvy-tripdata.csv; File length: 631226\n",
      "File name: 202111-divvy-tripdata.csv; File length: 359978\n",
      "File name: 202112-divvy-tripdata.csv; File length: 247540\n",
      "File name: 202201-divvy-tripdata.csv; File length: 103770\n",
      "File name: 202202-divvy-tripdata.csv; File length: 115609\n",
      "File name: 202203-divvy-tripdata.csv; File length: 284042\n"
     ]
    }
   ],
   "source": [
    "for file in my_files[1:]:\n",
    "    zf = zipfile.ZipFile('Datasets/' + file)\n",
    "    data = pd.read_csv(zf.open(zf.namelist()[0]), usecols = to_import)\n",
    "    print('File name: ' + zf.namelist()[0] + '; File length: ' + str(len(data)))\n",
    "    df = pd.concat([df, data], ignore_index=True)\n"
   ]
  },
  {
   "cell_type": "code",
   "execution_count": 5,
   "id": "09e29b93",
   "metadata": {},
   "outputs": [
    {
     "data": {
      "text/html": [
       "<div>\n",
       "<style scoped>\n",
       "    .dataframe tbody tr th:only-of-type {\n",
       "        vertical-align: middle;\n",
       "    }\n",
       "\n",
       "    .dataframe tbody tr th {\n",
       "        vertical-align: top;\n",
       "    }\n",
       "\n",
       "    .dataframe thead th {\n",
       "        text-align: right;\n",
       "    }\n",
       "</style>\n",
       "<table border=\"1\" class=\"dataframe\">\n",
       "  <thead>\n",
       "    <tr style=\"text-align: right;\">\n",
       "      <th></th>\n",
       "      <th>ride_id</th>\n",
       "      <th>rideable_type</th>\n",
       "      <th>started_at</th>\n",
       "      <th>ended_at</th>\n",
       "      <th>start_station_name</th>\n",
       "      <th>end_station_name</th>\n",
       "      <th>member_casual</th>\n",
       "    </tr>\n",
       "  </thead>\n",
       "  <tbody>\n",
       "    <tr>\n",
       "      <th>0</th>\n",
       "      <td>CFA86D4455AA1030</td>\n",
       "      <td>classic_bike</td>\n",
       "      <td>2021-03-16 08:32:30</td>\n",
       "      <td>2021-03-16 08:36:34</td>\n",
       "      <td>Humboldt Blvd &amp; Armitage Ave</td>\n",
       "      <td>Stave St &amp; Armitage Ave</td>\n",
       "      <td>casual</td>\n",
       "    </tr>\n",
       "    <tr>\n",
       "      <th>1</th>\n",
       "      <td>30D9DC61227D1AF3</td>\n",
       "      <td>classic_bike</td>\n",
       "      <td>2021-03-28 01:26:28</td>\n",
       "      <td>2021-03-28 01:36:55</td>\n",
       "      <td>Humboldt Blvd &amp; Armitage Ave</td>\n",
       "      <td>Central Park Ave &amp; Bloomingdale Ave</td>\n",
       "      <td>casual</td>\n",
       "    </tr>\n",
       "    <tr>\n",
       "      <th>2</th>\n",
       "      <td>846D87A15682A284</td>\n",
       "      <td>classic_bike</td>\n",
       "      <td>2021-03-11 21:17:29</td>\n",
       "      <td>2021-03-11 21:33:53</td>\n",
       "      <td>Shields Ave &amp; 28th Pl</td>\n",
       "      <td>Halsted St &amp; 35th St</td>\n",
       "      <td>casual</td>\n",
       "    </tr>\n",
       "    <tr>\n",
       "      <th>3</th>\n",
       "      <td>994D05AA75A168F2</td>\n",
       "      <td>classic_bike</td>\n",
       "      <td>2021-03-11 13:26:42</td>\n",
       "      <td>2021-03-11 13:55:41</td>\n",
       "      <td>Winthrop Ave &amp; Lawrence Ave</td>\n",
       "      <td>Broadway &amp; Sheridan Rd</td>\n",
       "      <td>casual</td>\n",
       "    </tr>\n",
       "    <tr>\n",
       "      <th>4</th>\n",
       "      <td>DF7464FBE92D8308</td>\n",
       "      <td>classic_bike</td>\n",
       "      <td>2021-03-21 09:09:37</td>\n",
       "      <td>2021-03-21 09:27:33</td>\n",
       "      <td>Glenwood Ave &amp; Touhy Ave</td>\n",
       "      <td>Chicago Ave &amp; Sheridan Rd</td>\n",
       "      <td>casual</td>\n",
       "    </tr>\n",
       "  </tbody>\n",
       "</table>\n",
       "</div>"
      ],
      "text/plain": [
       "            ride_id rideable_type           started_at             ended_at  \\\n",
       "0  CFA86D4455AA1030  classic_bike  2021-03-16 08:32:30  2021-03-16 08:36:34   \n",
       "1  30D9DC61227D1AF3  classic_bike  2021-03-28 01:26:28  2021-03-28 01:36:55   \n",
       "2  846D87A15682A284  classic_bike  2021-03-11 21:17:29  2021-03-11 21:33:53   \n",
       "3  994D05AA75A168F2  classic_bike  2021-03-11 13:26:42  2021-03-11 13:55:41   \n",
       "4  DF7464FBE92D8308  classic_bike  2021-03-21 09:09:37  2021-03-21 09:27:33   \n",
       "\n",
       "             start_station_name                     end_station_name  \\\n",
       "0  Humboldt Blvd & Armitage Ave              Stave St & Armitage Ave   \n",
       "1  Humboldt Blvd & Armitage Ave  Central Park Ave & Bloomingdale Ave   \n",
       "2         Shields Ave & 28th Pl                 Halsted St & 35th St   \n",
       "3   Winthrop Ave & Lawrence Ave               Broadway & Sheridan Rd   \n",
       "4      Glenwood Ave & Touhy Ave            Chicago Ave & Sheridan Rd   \n",
       "\n",
       "  member_casual  \n",
       "0        casual  \n",
       "1        casual  \n",
       "2        casual  \n",
       "3        casual  \n",
       "4        casual  "
      ]
     },
     "execution_count": 5,
     "metadata": {},
     "output_type": "execute_result"
    }
   ],
   "source": [
    "df.head()"
   ]
  },
  {
   "cell_type": "code",
   "execution_count": 6,
   "id": "68937675",
   "metadata": {},
   "outputs": [
    {
     "name": "stdout",
     "output_type": "stream",
     "text": [
      "<class 'pandas.core.frame.DataFrame'>\n",
      "RangeIndex: 5952028 entries, 0 to 5952027\n",
      "Data columns (total 7 columns):\n",
      " #   Column              Dtype \n",
      "---  ------              ----- \n",
      " 0   ride_id             object\n",
      " 1   rideable_type       object\n",
      " 2   started_at          object\n",
      " 3   ended_at            object\n",
      " 4   start_station_name  object\n",
      " 5   end_station_name    object\n",
      " 6   member_casual       object\n",
      "dtypes: object(7)\n",
      "memory usage: 2.8 GB\n"
     ]
    }
   ],
   "source": [
    "df.info(memory_usage=\"deep\")"
   ]
  },
  {
   "cell_type": "markdown",
   "id": "e095e1d6",
   "metadata": {},
   "source": [
    "As mentioned before, this dataframe is pretty large, at least for this project. The next steps attempt to reduce this file size by assigning less memory-consuming file types, including `datetime64` and `int64` data types. This helps shave off a 1 GB of memory usage."
   ]
  },
  {
   "cell_type": "code",
   "execution_count": 7,
   "id": "deda447a",
   "metadata": {},
   "outputs": [],
   "source": [
    "df['started_at'] = pd.to_datetime(df['started_at'])\n",
    "df['ended_at'] = pd.to_datetime(df['ended_at'])\n",
    "membership_values = {'casual': 0, 'member': 1}\n",
    "df['member_casual'] = df['member_casual'].map(membership_values)"
   ]
  },
  {
   "cell_type": "code",
   "execution_count": 8,
   "id": "df50a49c",
   "metadata": {},
   "outputs": [
    {
     "name": "stdout",
     "output_type": "stream",
     "text": [
      "<class 'pandas.core.frame.DataFrame'>\n",
      "RangeIndex: 5952028 entries, 0 to 5952027\n",
      "Data columns (total 7 columns):\n",
      " #   Column              Dtype         \n",
      "---  ------              -----         \n",
      " 0   ride_id             object        \n",
      " 1   rideable_type       object        \n",
      " 2   started_at          datetime64[ns]\n",
      " 3   ended_at            datetime64[ns]\n",
      " 4   start_station_name  object        \n",
      " 5   end_station_name    object        \n",
      " 6   member_casual       int64         \n",
      "dtypes: datetime64[ns](2), int64(1), object(4)\n",
      "memory usage: 1.7 GB\n"
     ]
    }
   ],
   "source": [
    "df.info(memory_usage=\"deep\")"
   ]
  },
  {
   "cell_type": "markdown",
   "id": "f01119a9",
   "metadata": {},
   "source": []
  },
  {
   "cell_type": "code",
   "execution_count": 9,
   "id": "30c768dc",
   "metadata": {},
   "outputs": [
    {
     "name": "stdout",
     "output_type": "stream",
     "text": [
      "565\n"
     ]
    }
   ],
   "source": [
    "duplicate_check = ['rideable_type', 'started_at', 'ended_at', 'start_station_name', 'end_station_name', 'member_casual']\n",
    "duplicate_entries = df[df.duplicated(subset = duplicate_check, keep = False)]\n",
    "duplicate_entries = duplicate_entries.drop_duplicates(subset = duplicate_check)\n",
    "print(len(duplicate_entries))"
   ]
  },
  {
   "cell_type": "code",
   "execution_count": 10,
   "id": "99c4ec0e",
   "metadata": {},
   "outputs": [
    {
     "name": "stdout",
     "output_type": "stream",
     "text": [
      "0.009492562871008\n"
     ]
    }
   ],
   "source": [
    "print(100*len(duplicate_entries)/len(df))"
   ]
  },
  {
   "cell_type": "code",
   "execution_count": 11,
   "id": "b6b342f2",
   "metadata": {},
   "outputs": [
    {
     "name": "stdout",
     "output_type": "stream",
     "text": [
      "5952028\n"
     ]
    }
   ],
   "source": [
    "print(len(df))"
   ]
  },
  {
   "cell_type": "code",
   "execution_count": 12,
   "id": "317bbdcf",
   "metadata": {},
   "outputs": [
    {
     "name": "stdout",
     "output_type": "stream",
     "text": [
      "5951462\n"
     ]
    }
   ],
   "source": [
    "df.drop_duplicates(subset = duplicate_check, inplace = True)\n",
    "print(len(df))"
   ]
  },
  {
   "cell_type": "code",
   "execution_count": 13,
   "id": "9a7145f6",
   "metadata": {},
   "outputs": [
    {
     "data": {
      "text/html": [
       "<div>\n",
       "<style scoped>\n",
       "    .dataframe tbody tr th:only-of-type {\n",
       "        vertical-align: middle;\n",
       "    }\n",
       "\n",
       "    .dataframe tbody tr th {\n",
       "        vertical-align: top;\n",
       "    }\n",
       "\n",
       "    .dataframe thead th {\n",
       "        text-align: right;\n",
       "    }\n",
       "</style>\n",
       "<table border=\"1\" class=\"dataframe\">\n",
       "  <thead>\n",
       "    <tr style=\"text-align: right;\">\n",
       "      <th></th>\n",
       "      <th>started_at</th>\n",
       "      <th>ended_at</th>\n",
       "      <th>ride_duration</th>\n",
       "    </tr>\n",
       "  </thead>\n",
       "  <tbody>\n",
       "    <tr>\n",
       "      <th>0</th>\n",
       "      <td>2021-03-16 08:32:30</td>\n",
       "      <td>2021-03-16 08:36:34</td>\n",
       "      <td>0 days 00:04:04</td>\n",
       "    </tr>\n",
       "    <tr>\n",
       "      <th>1</th>\n",
       "      <td>2021-03-28 01:26:28</td>\n",
       "      <td>2021-03-28 01:36:55</td>\n",
       "      <td>0 days 00:10:27</td>\n",
       "    </tr>\n",
       "    <tr>\n",
       "      <th>2</th>\n",
       "      <td>2021-03-11 21:17:29</td>\n",
       "      <td>2021-03-11 21:33:53</td>\n",
       "      <td>0 days 00:16:24</td>\n",
       "    </tr>\n",
       "    <tr>\n",
       "      <th>3</th>\n",
       "      <td>2021-03-11 13:26:42</td>\n",
       "      <td>2021-03-11 13:55:41</td>\n",
       "      <td>0 days 00:28:59</td>\n",
       "    </tr>\n",
       "    <tr>\n",
       "      <th>4</th>\n",
       "      <td>2021-03-21 09:09:37</td>\n",
       "      <td>2021-03-21 09:27:33</td>\n",
       "      <td>0 days 00:17:56</td>\n",
       "    </tr>\n",
       "  </tbody>\n",
       "</table>\n",
       "</div>"
      ],
      "text/plain": [
       "           started_at            ended_at   ride_duration\n",
       "0 2021-03-16 08:32:30 2021-03-16 08:36:34 0 days 00:04:04\n",
       "1 2021-03-28 01:26:28 2021-03-28 01:36:55 0 days 00:10:27\n",
       "2 2021-03-11 21:17:29 2021-03-11 21:33:53 0 days 00:16:24\n",
       "3 2021-03-11 13:26:42 2021-03-11 13:55:41 0 days 00:28:59\n",
       "4 2021-03-21 09:09:37 2021-03-21 09:27:33 0 days 00:17:56"
      ]
     },
     "execution_count": 13,
     "metadata": {},
     "output_type": "execute_result"
    }
   ],
   "source": [
    "df['ride_duration'] = df.ended_at - df.started_at\n",
    "df[['started_at', 'ended_at', 'ride_duration']].head()"
   ]
  },
  {
   "cell_type": "code",
   "execution_count": 14,
   "id": "3cc99237",
   "metadata": {},
   "outputs": [
    {
     "name": "stdout",
     "output_type": "stream",
     "text": [
      "-1 days +23:01:58\n"
     ]
    }
   ],
   "source": [
    "print(df.ride_duration.min())"
   ]
  },
  {
   "cell_type": "code",
   "execution_count": 15,
   "id": "758381f7",
   "metadata": {},
   "outputs": [
    {
     "name": "stdout",
     "output_type": "stream",
     "text": [
      "147\n"
     ]
    }
   ],
   "source": [
    "zero_timedelta = pd.to_timedelta(0)\n",
    "column = df['ride_duration']\n",
    "print(column[column < zero_timedelta].count())"
   ]
  },
  {
   "cell_type": "code",
   "execution_count": 16,
   "id": "7df4ed79",
   "metadata": {},
   "outputs": [
    {
     "name": "stdout",
     "output_type": "stream",
     "text": [
      "0\n"
     ]
    }
   ],
   "source": [
    "df['ride_duration'].to_numpy()[df['ride_duration'].to_numpy() < zero_timedelta] = zero_timedelta\n",
    "# df.loc[df['ride_duration'] < zero_timedelta] = zero_timedelta\n",
    "print(column[column < zero_timedelta].count())"
   ]
  },
  {
   "cell_type": "code",
   "execution_count": 17,
   "id": "ae3d948a",
   "metadata": {},
   "outputs": [
    {
     "data": {
      "text/html": [
       "<div>\n",
       "<style scoped>\n",
       "    .dataframe tbody tr th:only-of-type {\n",
       "        vertical-align: middle;\n",
       "    }\n",
       "\n",
       "    .dataframe tbody tr th {\n",
       "        vertical-align: top;\n",
       "    }\n",
       "\n",
       "    .dataframe thead th {\n",
       "        text-align: right;\n",
       "    }\n",
       "</style>\n",
       "<table border=\"1\" class=\"dataframe\">\n",
       "  <thead>\n",
       "    <tr style=\"text-align: right;\">\n",
       "      <th></th>\n",
       "      <th>ride_id</th>\n",
       "      <th>rideable_type</th>\n",
       "      <th>started_at</th>\n",
       "      <th>ended_at</th>\n",
       "      <th>start_station_name</th>\n",
       "      <th>end_station_name</th>\n",
       "      <th>member_casual</th>\n",
       "      <th>ride_duration</th>\n",
       "      <th>ride_duration_hrs</th>\n",
       "      <th>day_of_week</th>\n",
       "      <th>started_at_date</th>\n",
       "    </tr>\n",
       "  </thead>\n",
       "  <tbody>\n",
       "    <tr>\n",
       "      <th>0</th>\n",
       "      <td>CFA86D4455AA1030</td>\n",
       "      <td>classic_bike</td>\n",
       "      <td>2021-03-16 08:32:30</td>\n",
       "      <td>2021-03-16 08:36:34</td>\n",
       "      <td>Humboldt Blvd &amp; Armitage Ave</td>\n",
       "      <td>Stave St &amp; Armitage Ave</td>\n",
       "      <td>0</td>\n",
       "      <td>0 days 00:04:04</td>\n",
       "      <td>0.067778</td>\n",
       "      <td>1</td>\n",
       "      <td>2021-03-16</td>\n",
       "    </tr>\n",
       "    <tr>\n",
       "      <th>1</th>\n",
       "      <td>30D9DC61227D1AF3</td>\n",
       "      <td>classic_bike</td>\n",
       "      <td>2021-03-28 01:26:28</td>\n",
       "      <td>2021-03-28 01:36:55</td>\n",
       "      <td>Humboldt Blvd &amp; Armitage Ave</td>\n",
       "      <td>Central Park Ave &amp; Bloomingdale Ave</td>\n",
       "      <td>0</td>\n",
       "      <td>0 days 00:10:27</td>\n",
       "      <td>0.174167</td>\n",
       "      <td>6</td>\n",
       "      <td>2021-03-28</td>\n",
       "    </tr>\n",
       "    <tr>\n",
       "      <th>2</th>\n",
       "      <td>846D87A15682A284</td>\n",
       "      <td>classic_bike</td>\n",
       "      <td>2021-03-11 21:17:29</td>\n",
       "      <td>2021-03-11 21:33:53</td>\n",
       "      <td>Shields Ave &amp; 28th Pl</td>\n",
       "      <td>Halsted St &amp; 35th St</td>\n",
       "      <td>0</td>\n",
       "      <td>0 days 00:16:24</td>\n",
       "      <td>0.273333</td>\n",
       "      <td>3</td>\n",
       "      <td>2021-03-11</td>\n",
       "    </tr>\n",
       "    <tr>\n",
       "      <th>3</th>\n",
       "      <td>994D05AA75A168F2</td>\n",
       "      <td>classic_bike</td>\n",
       "      <td>2021-03-11 13:26:42</td>\n",
       "      <td>2021-03-11 13:55:41</td>\n",
       "      <td>Winthrop Ave &amp; Lawrence Ave</td>\n",
       "      <td>Broadway &amp; Sheridan Rd</td>\n",
       "      <td>0</td>\n",
       "      <td>0 days 00:28:59</td>\n",
       "      <td>0.483056</td>\n",
       "      <td>3</td>\n",
       "      <td>2021-03-11</td>\n",
       "    </tr>\n",
       "    <tr>\n",
       "      <th>4</th>\n",
       "      <td>DF7464FBE92D8308</td>\n",
       "      <td>classic_bike</td>\n",
       "      <td>2021-03-21 09:09:37</td>\n",
       "      <td>2021-03-21 09:27:33</td>\n",
       "      <td>Glenwood Ave &amp; Touhy Ave</td>\n",
       "      <td>Chicago Ave &amp; Sheridan Rd</td>\n",
       "      <td>0</td>\n",
       "      <td>0 days 00:17:56</td>\n",
       "      <td>0.298889</td>\n",
       "      <td>6</td>\n",
       "      <td>2021-03-21</td>\n",
       "    </tr>\n",
       "  </tbody>\n",
       "</table>\n",
       "</div>"
      ],
      "text/plain": [
       "            ride_id rideable_type          started_at            ended_at  \\\n",
       "0  CFA86D4455AA1030  classic_bike 2021-03-16 08:32:30 2021-03-16 08:36:34   \n",
       "1  30D9DC61227D1AF3  classic_bike 2021-03-28 01:26:28 2021-03-28 01:36:55   \n",
       "2  846D87A15682A284  classic_bike 2021-03-11 21:17:29 2021-03-11 21:33:53   \n",
       "3  994D05AA75A168F2  classic_bike 2021-03-11 13:26:42 2021-03-11 13:55:41   \n",
       "4  DF7464FBE92D8308  classic_bike 2021-03-21 09:09:37 2021-03-21 09:27:33   \n",
       "\n",
       "             start_station_name                     end_station_name  \\\n",
       "0  Humboldt Blvd & Armitage Ave              Stave St & Armitage Ave   \n",
       "1  Humboldt Blvd & Armitage Ave  Central Park Ave & Bloomingdale Ave   \n",
       "2         Shields Ave & 28th Pl                 Halsted St & 35th St   \n",
       "3   Winthrop Ave & Lawrence Ave               Broadway & Sheridan Rd   \n",
       "4      Glenwood Ave & Touhy Ave            Chicago Ave & Sheridan Rd   \n",
       "\n",
       "   member_casual   ride_duration  ride_duration_hrs  day_of_week  \\\n",
       "0              0 0 days 00:04:04           0.067778            1   \n",
       "1              0 0 days 00:10:27           0.174167            6   \n",
       "2              0 0 days 00:16:24           0.273333            3   \n",
       "3              0 0 days 00:28:59           0.483056            3   \n",
       "4              0 0 days 00:17:56           0.298889            6   \n",
       "\n",
       "  started_at_date  \n",
       "0      2021-03-16  \n",
       "1      2021-03-28  \n",
       "2      2021-03-11  \n",
       "3      2021-03-11  \n",
       "4      2021-03-21  "
      ]
     },
     "execution_count": 17,
     "metadata": {},
     "output_type": "execute_result"
    }
   ],
   "source": [
    "df['ride_duration_hrs'] = df.ride_duration / np.timedelta64(1, 'h')\n",
    "df['day_of_week'] = df.started_at.dt.dayofweek\n",
    "df['started_at_date'] = pd.to_datetime(df.started_at.dt.date)\n",
    "df.head()"
   ]
  },
  {
   "cell_type": "markdown",
   "id": "f03c6b43",
   "metadata": {},
   "source": [
    "## Data Analysis"
   ]
  },
  {
   "cell_type": "code",
   "execution_count": 18,
   "id": "8befcfa5",
   "metadata": {},
   "outputs": [
    {
     "name": "stdout",
     "output_type": "stream",
     "text": [
      "Total number of casual riders: 2630236 riders\n",
      "Total number of member riders: 3321226 riders\n"
     ]
    }
   ],
   "source": [
    "print(\"Total number of casual riders: {} riders\".format(df['member_casual'][df['member_casual'] == 0].count()))\n",
    "print(\"Total number of member riders: {} riders\".format(df['member_casual'][df['member_casual'] == 1].count()))"
   ]
  },
  {
   "cell_type": "markdown",
   "id": "9c14ac9a",
   "metadata": {},
   "source": [
    "## Data Aggregation"
   ]
  },
  {
   "cell_type": "markdown",
   "id": "0fc13f42",
   "metadata": {},
   "source": [
    "### Number of riders per day and membership status"
   ]
  },
  {
   "cell_type": "code",
   "execution_count": 19,
   "id": "ace70e8a",
   "metadata": {},
   "outputs": [
    {
     "name": "stdout",
     "output_type": "stream",
     "text": [
      "    started_at_date  member_casual  average_ride_length  number_of_riders  \\\n",
      "0        2021-03-01              0             0.516692               582   \n",
      "1        2021-03-01              1             0.186846              2885   \n",
      "2        2021-03-02              0             0.755977               795   \n",
      "3        2021-03-02              1             0.205193              3290   \n",
      "4        2021-03-03              0             0.466620              1474   \n",
      "..              ...            ...                  ...               ...   \n",
      "787      2022-03-29              1             0.178996              7001   \n",
      "788      2022-03-30              0             0.304134              1035   \n",
      "789      2022-03-30              1             0.165272              4519   \n",
      "790      2022-03-31              0             0.253142              1555   \n",
      "791      2022-03-31              1             0.167911              5643   \n",
      "\n",
      "     max_ride_length  min_ride_length  \n",
      "0          43.562778         0.001389  \n",
      "1           3.332500         0.000556  \n",
      "2         303.845556         0.003611  \n",
      "3           6.701111         0.000556  \n",
      "4          21.970278         0.000000  \n",
      "..               ...              ...  \n",
      "787        24.998889         0.000278  \n",
      "788        50.495000         0.000278  \n",
      "789         4.491944         0.000278  \n",
      "790        24.996944         0.000278  \n",
      "791        24.997778         0.000000  \n",
      "\n",
      "[792 rows x 6 columns]\n"
     ]
    }
   ],
   "source": [
    "daily_ridership = df.groupby(['started_at_date', 'member_casual']).agg(\n",
    "    average_ride_length = pd.NamedAgg(column = 'ride_duration_hrs', aggfunc = 'mean'),\n",
    "    number_of_riders = pd.NamedAgg(column = 'ride_id', aggfunc = 'count'),\n",
    "    max_ride_length = pd.NamedAgg(column = 'ride_duration_hrs', aggfunc = 'max'),\n",
    "    min_ride_length = pd.NamedAgg(column = 'ride_duration_hrs', aggfunc = 'min')).sort_values(['started_at_date', 'member_casual'])\n",
    "daily_ridership.reset_index(inplace = True)\n",
    "\n",
    "print(daily_ridership)"
   ]
  },
  {
   "cell_type": "code",
   "execution_count": 20,
   "id": "c8cb53dd",
   "metadata": {},
   "outputs": [
    {
     "name": "stdout",
     "output_type": "stream",
     "text": [
      "    started_at_date member_casual  average_ride_length  number_of_riders  \\\n",
      "0        2021-03-01        casual             0.516692               582   \n",
      "1        2021-03-01        member             0.186846              2885   \n",
      "2        2021-03-02        casual             0.755977               795   \n",
      "3        2021-03-02        member             0.205193              3290   \n",
      "4        2021-03-03        casual             0.466620              1474   \n",
      "..              ...           ...                  ...               ...   \n",
      "787      2022-03-29        member             0.178996              7001   \n",
      "788      2022-03-30        casual             0.304134              1035   \n",
      "789      2022-03-30        member             0.165272              4519   \n",
      "790      2022-03-31        casual             0.253142              1555   \n",
      "791      2022-03-31        member             0.167911              5643   \n",
      "\n",
      "     max_ride_length  min_ride_length  \n",
      "0          43.562778         0.001389  \n",
      "1           3.332500         0.000556  \n",
      "2         303.845556         0.003611  \n",
      "3           6.701111         0.000556  \n",
      "4          21.970278         0.000000  \n",
      "..               ...              ...  \n",
      "787        24.998889         0.000278  \n",
      "788        50.495000         0.000278  \n",
      "789         4.491944         0.000278  \n",
      "790        24.996944         0.000278  \n",
      "791        24.997778         0.000000  \n",
      "\n",
      "[792 rows x 6 columns]\n"
     ]
    }
   ],
   "source": [
    "membership_reverse = {value: key for key, value in membership_values.items()}\n",
    "daily_ridership['member_casual'] = daily_ridership['member_casual'].map(membership_reverse)\n",
    "print(daily_ridership)"
   ]
  },
  {
   "cell_type": "markdown",
   "id": "337373b2",
   "metadata": {},
   "source": [
    "### Number of riders per day of the week and membership status"
   ]
  },
  {
   "cell_type": "code",
   "execution_count": 21,
   "id": "4747dd7b",
   "metadata": {},
   "outputs": [
    {
     "name": "stdout",
     "output_type": "stream",
     "text": [
      "    day_of_week  member_casual  rider_count\n",
      "0             0              0       304957\n",
      "1             0              1       462246\n",
      "2             1              0       286811\n",
      "3             1              1       513615\n",
      "4             2              0       295259\n",
      "5             2              1       522704\n",
      "6             3              0       299091\n",
      "7             3              1       491281\n",
      "8             4              0       372013\n",
      "9             4              1       470964\n",
      "10            5              0       572011\n",
      "11            5              1       454439\n",
      "12            6              0       500094\n",
      "13            6              1       405977\n"
     ]
    }
   ],
   "source": [
    "dayofweek_ridership = df.groupby(['day_of_week', 'member_casual']).agg(rider_count = pd.NamedAgg(column = 'member_casual', aggfunc = 'count'))\n",
    "dayofweek_ridership.reset_index(inplace=True)\n",
    "print(dayofweek_ridership)"
   ]
  },
  {
   "cell_type": "code",
   "execution_count": 22,
   "id": "cf0ead74",
   "metadata": {},
   "outputs": [],
   "source": [
    "day_names = {0: 'Monday', 1: 'Tuesday', 2: 'Wednesday', 3: 'Thursday', 4: 'Friday', 5: 'Saturday', 6: 'Sunday'}\n",
    "dayofweek_ridership['day_of_week'] = dayofweek_ridership['day_of_week'].map(day_names)"
   ]
  },
  {
   "cell_type": "code",
   "execution_count": 23,
   "id": "e716cc8f",
   "metadata": {},
   "outputs": [
    {
     "name": "stdout",
     "output_type": "stream",
     "text": [
      "   day_of_week member_casual  rider_count\n",
      "0       Monday        casual       304957\n",
      "1       Monday        member       462246\n",
      "2      Tuesday        casual       286811\n",
      "3      Tuesday        member       513615\n",
      "4    Wednesday        casual       295259\n",
      "5    Wednesday        member       522704\n",
      "6     Thursday        casual       299091\n",
      "7     Thursday        member       491281\n",
      "8       Friday        casual       372013\n",
      "9       Friday        member       470964\n",
      "10    Saturday        casual       572011\n",
      "11    Saturday        member       454439\n",
      "12      Sunday        casual       500094\n",
      "13      Sunday        member       405977\n"
     ]
    }
   ],
   "source": [
    "dayofweek_ridership['member_casual'] = dayofweek_ridership['member_casual'].map(membership_reverse)\n",
    "print(dayofweek_ridership)"
   ]
  },
  {
   "cell_type": "markdown",
   "id": "3b563885",
   "metadata": {},
   "source": [
    "### Riders per station, starting and ending"
   ]
  },
  {
   "cell_type": "code",
   "execution_count": 24,
   "id": "0f46dd32",
   "metadata": {},
   "outputs": [
    {
     "name": "stdout",
     "output_type": "stream",
     "text": [
      "                                start_station_name member_casual  rider_count\n",
      "0                          Streeter Dr & Grand Ave        casual        68896\n",
      "1                                  Millennium Park        casual        34740\n",
      "2                            Michigan Ave & Oak St        casual        30549\n",
      "3                         Kingsbury St & Kinzie St        member        26310\n",
      "4                                Clark St & Elm St        member        26211\n",
      "...                                            ...           ...          ...\n",
      "1708                           Avenue L & 114th St        member            1\n",
      "1709                   Whipple St & Irving Park Rd        member            1\n",
      "1710  Pawel Bialowas - Test- PBSC charging station        casual            1\n",
      "1711               Lyft Driver Center Private Rack        member            1\n",
      "1712                   N Damen Ave & W Wabansia St        member            1\n",
      "\n",
      "[1713 rows x 3 columns]\n"
     ]
    }
   ],
   "source": [
    "start_station_riders = df.groupby(['start_station_name', 'member_casual']).agg(rider_count = pd.NamedAgg(column = 'ride_id', aggfunc = 'count')).sort_values(['rider_count'], ascending = False)\n",
    "start_station_riders.reset_index(inplace = True)\n",
    "start_station_riders['member_casual'] = start_station_riders['member_casual'].map(membership_reverse)\n",
    "print(start_station_riders)"
   ]
  },
  {
   "cell_type": "code",
   "execution_count": 25,
   "id": "4c90071f",
   "metadata": {},
   "outputs": [
    {
     "name": "stdout",
     "output_type": "stream",
     "text": [
      "                                  end_station_name member_casual  rider_count\n",
      "0                          Streeter Dr & Grand Ave        casual        71187\n",
      "1                                  Millennium Park        casual        35737\n",
      "2                            Michigan Ave & Oak St        casual        32014\n",
      "3                                Clark St & Elm St        member        26359\n",
      "4                         Kingsbury St & Kinzie St        member        26183\n",
      "...                                            ...           ...          ...\n",
      "1702                            Troy Ave & 27th St        member            1\n",
      "1703  Pawel Bialowas - Test- PBSC charging station        casual            1\n",
      "1704                        Indiana Ave & 133rd St        casual            1\n",
      "1705                       Maplewood Ave & 59th St        member            1\n",
      "1706                   Burnham Greenway & 112th St        member            1\n",
      "\n",
      "[1707 rows x 3 columns]\n"
     ]
    }
   ],
   "source": [
    "end_station_riders = df.groupby(['end_station_name', 'member_casual']).agg(rider_count = pd.NamedAgg(column = 'ride_id', aggfunc = 'count')).sort_values(['rider_count'], ascending = False)\n",
    "end_station_riders.reset_index(inplace = True)\n",
    "end_station_riders['member_casual'] = end_station_riders['member_casual'].map(membership_reverse)\n",
    "print(end_station_riders)"
   ]
  },
  {
   "cell_type": "code",
   "execution_count": 26,
   "id": "84f12efa",
   "metadata": {
    "scrolled": true
   },
   "outputs": [
    {
     "name": "stderr",
     "output_type": "stream",
     "text": [
      "R[write to console]: -- \u001b[1mAttaching packages\u001b[22m ------------------------------------------------------------------------------- tidyverse 1.3.1 --\n",
      "\n",
      "R[write to console]: \u001b[32mv\u001b[39m \u001b[34mggplot2\u001b[39m 3.3.6     \u001b[32mv\u001b[39m \u001b[34mpurrr  \u001b[39m 0.3.4\n",
      "\u001b[32mv\u001b[39m \u001b[34mtibble \u001b[39m 3.1.7     \u001b[32mv\u001b[39m \u001b[34mdplyr  \u001b[39m 1.0.9\n",
      "\u001b[32mv\u001b[39m \u001b[34mtidyr  \u001b[39m 1.2.0     \u001b[32mv\u001b[39m \u001b[34mstringr\u001b[39m 1.4.0\n",
      "\u001b[32mv\u001b[39m \u001b[34mreadr  \u001b[39m 2.1.2     \u001b[32mv\u001b[39m \u001b[34mforcats\u001b[39m 0.5.1\n",
      "\n",
      "R[write to console]: -- \u001b[1mConflicts\u001b[22m ---------------------------------------------------------------------------------- tidyverse_conflicts() --\n",
      "\u001b[31mx\u001b[39m \u001b[34mdplyr\u001b[39m::\u001b[32mfilter()\u001b[39m masks \u001b[34mstats\u001b[39m::filter()\n",
      "\u001b[31mx\u001b[39m \u001b[34mdplyr\u001b[39m::\u001b[32mlag()\u001b[39m    masks \u001b[34mstats\u001b[39m::lag()\n",
      "\n",
      "R[write to console]: \n",
      "Attaching package: 'lubridate'\n",
      "\n",
      "\n",
      "R[write to console]: The following objects are masked from 'package:base':\n",
      "\n",
      "    date, intersect, setdiff, union\n",
      "\n",
      "\n",
      "R[write to console]: Loading required package: PerformanceAnalytics\n",
      "\n",
      "R[write to console]: Loading required package: xts\n",
      "\n",
      "R[write to console]: Loading required package: zoo\n",
      "\n",
      "R[write to console]: \n",
      "Attaching package: 'zoo'\n",
      "\n",
      "\n",
      "R[write to console]: The following objects are masked from 'package:base':\n",
      "\n",
      "    as.Date, as.Date.numeric\n",
      "\n",
      "\n",
      "R[write to console]: \n",
      "Attaching package: 'xts'\n",
      "\n",
      "\n",
      "R[write to console]: The following objects are masked from 'package:dplyr':\n",
      "\n",
      "    first, last\n",
      "\n",
      "\n",
      "R[write to console]: \n",
      "Attaching package: 'PerformanceAnalytics'\n",
      "\n",
      "\n",
      "R[write to console]: The following object is masked from 'package:graphics':\n",
      "\n",
      "    legend\n",
      "\n",
      "\n",
      "R[write to console]: Loading required package: quantmod\n",
      "\n",
      "R[write to console]: Loading required package: TTR\n",
      "\n",
      "R[write to console]: Registered S3 method overwritten by 'quantmod':\n",
      "  method            from\n",
      "  as.zoo.data.frame zoo \n",
      "\n"
     ]
    }
   ],
   "source": [
    "%%R\n",
    "library(tidyverse)\n",
    "library(lubridate)\n",
    "library(tidyquant)\n",
    "library(repr)\n",
    "options(scipen=10000)\n"
   ]
  },
  {
   "cell_type": "code",
   "execution_count": 27,
   "id": "fcf2aed1",
   "metadata": {},
   "outputs": [
    {
     "name": "stderr",
     "output_type": "stream",
     "text": [
      "C:\\Users\\Chris\\AppData\\Local\\Programs\\Python\\Python310\\lib\\site-packages\\pandas\\core\\arrays\\datetimes.py:2211: PytzUsageWarning: The zone attribute is specific to pytz's interface; please migrate to a new time zone provider. For more details on how to do so, see https://pytz-deprecation-shim.readthedocs.io/en/latest/migration.html\n",
      "  values, tz_parsed = conversion.datetime_to_datetime64(data.ravel(\"K\"))\n",
      "C:\\Users\\Chris\\AppData\\Local\\Programs\\Python\\Python310\\lib\\site-packages\\pandas\\core\\indexes\\base.py:7124: PytzUsageWarning: The zone attribute is specific to pytz's interface; please migrate to a new time zone provider. For more details on how to do so, see https://pytz-deprecation-shim.readthedocs.io/en/latest/migration.html\n",
      "  result = lib.maybe_convert_objects(\n",
      "C:\\Users\\Chris\\AppData\\Local\\Programs\\Python\\Python310\\lib\\site-packages\\pandas\\core\\arrays\\datetimes.py:2211: PytzUsageWarning: The zone attribute is specific to pytz's interface; please migrate to a new time zone provider. For more details on how to do so, see https://pytz-deprecation-shim.readthedocs.io/en/latest/migration.html\n",
      "  values, tz_parsed = conversion.datetime_to_datetime64(data.ravel(\"K\"))\n",
      "C:\\Users\\Chris\\AppData\\Local\\Programs\\Python\\Python310\\lib\\site-packages\\pandas\\core\\arrays\\datetimes.py:2211: PytzUsageWarning: The zone attribute is specific to pytz's interface; please migrate to a new time zone provider. For more details on how to do so, see https://pytz-deprecation-shim.readthedocs.io/en/latest/migration.html\n",
      "  values, tz_parsed = conversion.datetime_to_datetime64(data.ravel(\"K\"))\n",
      "C:\\Users\\Chris\\AppData\\Local\\Programs\\Python\\Python310\\lib\\site-packages\\pandas\\core\\arrays\\datetimes.py:2326: PytzUsageWarning: The zone attribute is specific to pytz's interface; please migrate to a new time zone provider. For more details on how to do so, see https://pytz-deprecation-shim.readthedocs.io/en/latest/migration.html\n",
      "  elif not timezones.tz_compare(tz, inferred_tz):\n",
      "C:\\Users\\Chris\\AppData\\Local\\Programs\\Python\\Python310\\lib\\site-packages\\pandas\\core\\arrays\\datetimes.py:2407: PytzUsageWarning: The zone attribute is specific to pytz's interface; please migrate to a new time zone provider. For more details on how to do so, see https://pytz-deprecation-shim.readthedocs.io/en/latest/migration.html\n",
      "  if tz is not None and not timezones.tz_compare(tz, dtz):\n",
      "C:\\Users\\Chris\\AppData\\Local\\Programs\\Python\\Python310\\lib\\site-packages\\pandas\\core\\indexes\\base.py:5928: PytzUsageWarning: The zone attribute is specific to pytz's interface; please migrate to a new time zone provider. For more details on how to do so, see https://pytz-deprecation-shim.readthedocs.io/en/latest/migration.html\n",
      "  and not tz_compare(self.tz, other.tz)\n",
      "C:\\Users\\Chris\\AppData\\Local\\Programs\\Python\\Python310\\lib\\site-packages\\pandas\\core\\dtypes\\dtypes.py:790: PytzUsageWarning: The zone attribute is specific to pytz's interface; please migrate to a new time zone provider. For more details on how to do so, see https://pytz-deprecation-shim.readthedocs.io/en/latest/migration.html\n",
      "  and tz_compare(self.tz, other.tz)\n"
     ]
    }
   ],
   "source": [
    "%%R -i daily_ridership\n",
    "daily_ridership$started_at_date <- ymd(daily_ridership$started_at_date)\n",
    "#head(daily_ridership)"
   ]
  },
  {
   "cell_type": "code",
   "execution_count": 28,
   "id": "7e98c5e3",
   "metadata": {},
   "outputs": [
    {
     "name": "stderr",
     "output_type": "stream",
     "text": [
      "R[write to console]: `geom_smooth()` using method = 'loess' and formula 'y ~ x'\n",
      "\n"
     ]
    },
    {
     "data": {
      "image/png": "[encoded data removed]"
     },
     "metadata": {},
     "output_type": "display_data"
    }
   ],
   "source": [
    "%%R -w 720 -h 576 -u px\n",
    "ride_count_plot <- ggplot(data = daily_ridership, mapping = aes(x = started_at_date, y = number_of_riders, group = member_casual, color = member_casual))\n",
    "ride_count_plot <- ride_count_plot + geom_point(size=3)\n",
    "ride_count_plot <- ride_count_plot + theme_minimal(base_size = 16)\n",
    "ride_count_plot <- ride_count_plot + geom_smooth(method = NULL, se=FALSE)\n",
    "ride_count_plot <- ride_count_plot + scale_x_date(date_labels = \"%Y %b %d\", date_breaks = \"1 months\")\n",
    "ride_count_plot <- ride_count_plot + theme(axis.text.x = element_text(angle = 90, hjust = 1), legend.title = element_blank())\n",
    "ride_count_plot <- ride_count_plot + labs(title=\"Average Number Of Riders Per Day\", subtitle=\"Sorted By Membership Status\", x=\"\", y=\"Rider Count\")\n",
    "ride_count_annotate <- ride_count_plot + annotate(geom = \"rect\", \n",
    "                                                  xmin = as.Date(\"2021-05-01\"), \n",
    "                                                  xmax = as.Date(\"2021-10-15\"), \n",
    "                                                  ymin = -Inf, ymax = Inf, \n",
    "                                                  alpha = 0.15)\n",
    "ride_count_annotate <- ride_count_annotate + annotate(geom = \"text\", \n",
    "                                                      x=as.Date(\"2021-05-06\"), \n",
    "                                                      y = 10, \n",
    "                                                      label = \"Average casual rider count\\nexceeds member rider count\", \n",
    "                                                      hjust = 0,\n",
    "                                                      size = 5)\n",
    "plot(ride_count_annotate)\n"
   ]
  },
  {
   "cell_type": "code",
   "execution_count": 29,
   "id": "d35c1dcd",
   "metadata": {},
   "outputs": [],
   "source": [
    "%%R -i dayofweek_ridership\n",
    "\n",
    "# Set a custom order for the clustered bar chart\n",
    "dayofweek_ridership$day_of_week <- factor(dayofweek_ridership$day_of_week, levels = c('Sunday', 'Monday', 'Tuesday', 'Wednesday', 'Thursday', 'Friday', 'Saturday'))\n",
    "\n"
   ]
  },
  {
   "cell_type": "code",
   "execution_count": 30,
   "id": "a0ffc02f",
   "metadata": {},
   "outputs": [
    {
     "data": {
      "image/png": "[encoded data removed]"
     },
     "metadata": {},
     "output_type": "display_data"
    }
   ],
   "source": [
    "%%R -w 720 -h 576 -u px\n",
    "dayofweek <- ggplot(data = dayofweek_ridership, aes(x=day_of_week, y=rider_count, fill=member_casual))\n",
    "dayofweek <- dayofweek + geom_bar(stat='identity', position='dodge', color='black')\n",
    "dayofweek <- dayofweek + guides(fill=guide_legend(title=NULL)) # Remove legend title\n",
    "dayofweek <- dayofweek + labs(title=\"Number of Riders Grouped By Days Of The Week\", x=\"\", y=\"Number Of Riders\")\n",
    "dayofweek <- dayofweek + theme_minimal(base_size = 16)\n",
    "plot(dayofweek)"
   ]
  },
  {
   "cell_type": "code",
   "execution_count": 31,
   "id": "2b008bef",
   "metadata": {},
   "outputs": [],
   "source": [
    "%%R -i start_station_riders\n",
    "startstation_filtered <- start_station_riders %>% \n",
    "  dplyr::filter(member_casual == 'casual') %>% \n",
    "  slice(1:10) %>%\n",
    "  arrange(rider_count) %>% \n",
    "  dplyr::mutate(start_station_name = forcats::fct_rev(forcats::fct_inorder(start_station_name)))\n",
    "\n",
    "start_stations_ordered <- start_station_riders %>%\n",
    "  mutate(start_station_name = factor(start_station_name, levels = startstation_filtered$start_station_name, ordered = TRUE)) %>%\n",
    "  drop_na() %>%\n",
    "  ggplot(aes(x = rider_count, y = start_station_name, fill = member_casual))"
   ]
  },
  {
   "cell_type": "code",
   "execution_count": 32,
   "id": "7d9b5cf2",
   "metadata": {},
   "outputs": [
    {
     "data": {
      "image/png": "[encoded data removed]"
     },
     "metadata": {},
     "output_type": "display_data"
    }
   ],
   "source": [
    "%%R -w 720 -h 576 -u px\n",
    "startstations_filtered_plot <- start_stations_ordered + geom_bar(stat = 'identity', position = position_dodge2(reverse = TRUE), color = \"black\")\n",
    "startstations_filtered_plot <- startstations_filtered_plot + theme_minimal(base_size = 16)\n",
    "startstations_filtered_plot <- startstations_filtered_plot + labs(title=\"Top 10 Stations Casual Riders Start At\", subtitle=\"Counted over the whole observation period\", x=\"Number Of Riders\", y=\"\")\n",
    "startstations_filtered_plot <- startstations_filtered_plot + theme(legend.title=element_blank())\n",
    "plot(startstations_filtered_plot)"
   ]
  },
  {
   "cell_type": "code",
   "execution_count": 33,
   "id": "8e7da896",
   "metadata": {},
   "outputs": [],
   "source": [
    "%%R -i end_station_riders\n",
    "endstation_filtered <- end_station_riders %>% \n",
    "  dplyr::filter(member_casual == 'casual') %>% \n",
    "  slice(1:10) %>%\n",
    "  arrange(rider_count) %>% # Order the data in ascending order which will be plotted in reverse\n",
    "  dplyr::mutate(end_station_name = forcats::fct_rev(forcats::fct_inorder(end_station_name))) # Set the order of the station names\n",
    "\n",
    "end_stations_ordered <- end_station_riders %>%\n",
    "  mutate(end_station_name = factor(end_station_name, levels = endstation_filtered$end_station_name, ordered = TRUE)) %>%\n",
    "  drop_na() %>%\n",
    "  ggplot(aes(x = rider_count, y = end_station_name, fill = member_casual))"
   ]
  },
  {
   "cell_type": "code",
   "execution_count": 34,
   "id": "9ffc1cfe",
   "metadata": {},
   "outputs": [
    {
     "data": {
      "image/png": "[encoded data removed]"
     },
     "metadata": {},
     "output_type": "display_data"
    }
   ],
   "source": [
    "%%R -w 720 -h 576 -u px\n",
    "endstations_filtered_plot <- end_stations_ordered + geom_bar(stat = 'identity', position = position_dodge2(reverse = TRUE), color = \"black\") # create the grouped bar charts with the position of the casual member bars swapped\n",
    "endstations_filtered_plot <- endstations_filtered_plot + theme_minimal(base_size = 16)\n",
    "endstations_filtered_plot <- endstations_filtered_plot + labs(title=\"Top 10 Stations Casual Riders End At\", subtitle=\"Counted over the whole observation period\", x=\"Number Of Riders\", y=\"\")\n",
    "endstations_filtered_plot <- endstations_filtered_plot + theme(legend.title=element_blank())\n",
    "plot(endstations_filtered_plot)"
   ]
  },
  {
   "cell_type": "code",
   "execution_count": 35,
   "id": "7e76741a",
   "metadata": {},
   "outputs": [
    {
     "name": "stderr",
     "output_type": "stream",
     "text": [
      "R[write to console]: `geom_smooth()` using method = 'loess' and formula 'y ~ x'\n",
      "\n"
     ]
    },
    {
     "data": {
      "image/png": "[encoded data removed]"
     },
     "metadata": {},
     "output_type": "display_data"
    }
   ],
   "source": [
    "%%R -w 720 -h 576 -u px\n",
    "ride_length_plot <-ggplot(data = daily_ridership, mapping = aes(x = started_at_date, y = average_ride_length, group = member_casual, color = member_casual))\n",
    "ride_length_plot <- ride_length_plot + geom_point(size = 3)\n",
    "ride_length_plot <- ride_length_plot + geom_smooth(method = NULL, se=FALSE)\n",
    "ride_length_plot <- ride_length_plot + theme_minimal(base_size = 16)\n",
    "ride_length_plot <- ride_length_plot + scale_x_date(date_labels = \"%Y %b %d\", date_breaks = \"1 months\")\n",
    "ride_length_plot <- ride_length_plot + theme(axis.text.x=element_text(angle=90, hjust=1), legend.title=element_blank())\n",
    "ride_length_plot <- ride_length_plot + labs(title=\"Average Ride Duration Per Day\", subtitle=\"Sorted By Membership Status\", x=\"\", y=\"Ride Duration [hrs]\")\n",
    "plot(ride_length_plot)"
   ]
  },
  {
   "cell_type": "code",
   "execution_count": null,
   "id": "39733642",
   "metadata": {},
   "outputs": [],
   "source": []
  }
 ],
 "metadata": {
  "kernelspec": {
   "display_name": "Python 3 (ipykernel)",
   "language": "python",
   "name": "python3"
  },
  "language_info": {
   "codemirror_mode": {
    "name": "ipython",
    "version": 3
   },
   "file_extension": ".py",
   "mimetype": "text/x-python",
   "name": "python",
   "nbconvert_exporter": "python",
   "pygments_lexer": "ipython3",
   "version": "3.10.4"
  }
 },
 "nbformat": 4,
 "nbformat_minor": 5
}
