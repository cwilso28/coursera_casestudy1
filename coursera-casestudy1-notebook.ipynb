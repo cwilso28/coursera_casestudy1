{
 "cells": [
  {
   "cell_type": "markdown",
   "id": "8af60e0a",
   "metadata": {},
   "source": [
    "# Coursera Case Study 1: Revisited"
   ]
  },
  {
   "cell_type": "markdown",
   "id": "218ce786",
   "metadata": {},
   "source": [
    "## Introduction\n",
    "This notebook is a repeat of the work done on a case study for the Coursera's Google Data Analytics Certificate program. The work was previously performed in Excel and R, with an RMarkdown HTML document as the output. The goal here is to repeat and document the steps taken to clean and analyze the data. This is sorely missing from the write-up found over at my [Kaggle site](https://www.kaggle.com/code/scwilso28/coursera-case-study-1-cyclistic-data-analysis).\n",
    "\n",
    "The data cleanup steps performed in my other Jupyter notebook on [Github](https://github.com/cwilso28/my-first-jupyter-notebook) will be used here, but with some modifications to account for the large datafiles used in the case study."
   ]
  },
  {
   "cell_type": "code",
   "execution_count": null,
   "id": "cc79f359",
   "metadata": {},
   "outputs": [],
   "source": []
  }
 ],
 "metadata": {
  "kernelspec": {
   "display_name": "Python 3 (ipykernel)",
   "language": "python",
   "name": "python3"
  },
  "language_info": {
   "codemirror_mode": {
    "name": "ipython",
    "version": 3
   },
   "file_extension": ".py",
   "mimetype": "text/x-python",
   "name": "python",
   "nbconvert_exporter": "python",
   "pygments_lexer": "ipython3",
   "version": "3.10.4"
  }
 },
 "nbformat": 4,
 "nbformat_minor": 5
}
